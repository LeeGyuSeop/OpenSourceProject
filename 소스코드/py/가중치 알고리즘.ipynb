{
 "cells": [
  {
   "cell_type": "code",
   "execution_count": 6,
   "metadata": {},
   "outputs": [],
   "source": [
    "import pandas as pd "
   ]
  },
  {
   "cell_type": "code",
   "execution_count": 7,
   "metadata": {},
   "outputs": [],
   "source": [
    "def SearchMax(dataFrame) :\n",
    "    Max=0\n",
    "    for data in dataFrame[1]:\n",
    "        if data >= Max :\n",
    "            Max=data\n",
    "    \n",
    "    return Max"
   ]
  },
  {
   "cell_type": "code",
   "execution_count": 8,
   "metadata": {},
   "outputs": [],
   "source": [
    "def SearchMin(dataFrame) :\n",
    "    Min=dataFrame[1][0]\n",
    "    for data in dataFrame[1]:\n",
    "        if data <= Min :\n",
    "            Min=data\n",
    "    return Min"
   ]
  },
  {
   "cell_type": "code",
   "execution_count": 9,
   "metadata": {},
   "outputs": [],
   "source": [
    "#지표계산\n",
    "def IndicationCal(dataFrame) :\n",
    "    mindata = SearchMin(dataFrame)\n",
    "    maxdata = SearchMax(dataFrame)\n",
    "    number = 0\n",
    "    dataFrame = dataFrame.astype({1:float})\n",
    "    for data in dataFrame[1]:\n",
    "        dataFrame[1][number] = round((data-mindata)/(maxdata-mindata)*10,3)\n",
    "        number += 1\n",
    "    return dataFrame"
   ]
  },
  {
   "cell_type": "code",
   "execution_count": 10,
   "metadata": {},
   "outputs": [],
   "source": [
    "#지표계산 역방향\n",
    "def IndicationCalReverse(dataFrame) :\n",
    "    mindata = SearchMin(dataFrame)\n",
    "    maxdata = SearchMax(dataFrame)\n",
    "    number = 0\n",
    "    dataFrame = dataFrame.astype({1:float})\n",
    "    for data in dataFrame[1]:\n",
    "        dataFrame[1][number] = round(10-((data-mindata)/(maxdata-mindata)*10),3)\n",
    "        number += 1\n",
    "    return dataFrame"
   ]
  },
  {
   "cell_type": "code",
   "execution_count": 11,
   "metadata": {},
   "outputs": [],
   "source": [
    "#업종에 따른 모든 구의 지표값*가중치 값 \n",
    "def WeightSet(floatPopulation, competeSector, officialPrice) :\n",
    "    f_p = IndicationCal(floatPopulation)\n",
    "    c_s = IndicationCalReverse(competeSector)\n",
    "    o_p = IndicationCalReverse(officialPrice)\n",
    "    number_f = 0\n",
    "    recoList = pd.DataFrame(columns = ['State' , 'Recommed'])\n",
    "    for state_f in f_p[0]:\n",
    "        number_c = 0\n",
    "        number_o = 0\n",
    "        sumdata = 0.0\n",
    "        sumdata += (f_p[1][number_f]*0.3)\n",
    "        for state_c in c_s[0]:\n",
    "            if state_f == state_c :\n",
    "                sumdata += (c_s[1][number_c]*0.4)\n",
    "            number_c += 1\n",
    "        for state_o in o_p[0]:\n",
    "            if state_f == state_o :\n",
    "                sumdata += (o_p[1][number_o]*0.3)\n",
    "            number_o += 1\n",
    "        recoList.loc[number_f]=[state_f, sumdata]\n",
    "        number_f += 1\n",
    "    return recoList"
   ]
  },
  {
   "cell_type": "code",
   "execution_count": 12,
   "metadata": {},
   "outputs": [],
   "source": [
    "x = pd.DataFrame([['종로구', 12, 3], ['구로구', 5, 6], ['남로구', 8, 9], ['종구', 5, 6], ['구', 8, 9]])\n",
    "y = pd.DataFrame([['구', 12, 3], ['종구', 5, 6], ['남로구', 8, 9], ['구로구', 5, 6], ['종로구', 8, 9]])\n",
    "z = pd.DataFrame([['구로구', 12, 3], ['남로구', 5, 6], ['구', 5, 6], ['종로구', 8, 9], ['종구', 8, 9]])\n"
   ]
  },
  {
   "cell_type": "code",
   "execution_count": 13,
   "metadata": {},
   "outputs": [
    {
     "name": "stderr",
     "output_type": "stream",
     "text": [
      "<ipython-input-9-6a6c2ca5c093>:8: SettingWithCopyWarning: \n",
      "A value is trying to be set on a copy of a slice from a DataFrame\n",
      "\n",
      "See the caveats in the documentation: https://pandas.pydata.org/pandas-docs/stable/user_guide/indexing.html#returning-a-view-versus-a-copy\n",
      "  dataFrame[1][number] = round((data-mindata)/(maxdata-mindata)*10,3)\n"
     ]
    },
    {
     "data": {
      "text/html": [
       "<div>\n",
       "<style scoped>\n",
       "    .dataframe tbody tr th:only-of-type {\n",
       "        vertical-align: middle;\n",
       "    }\n",
       "\n",
       "    .dataframe tbody tr th {\n",
       "        vertical-align: top;\n",
       "    }\n",
       "\n",
       "    .dataframe thead th {\n",
       "        text-align: right;\n",
       "    }\n",
       "</style>\n",
       "<table border=\"1\" class=\"dataframe\">\n",
       "  <thead>\n",
       "    <tr style=\"text-align: right;\">\n",
       "      <th></th>\n",
       "      <th>State</th>\n",
       "      <th>Recommed</th>\n",
       "    </tr>\n",
       "  </thead>\n",
       "  <tbody>\n",
       "    <tr>\n",
       "      <th>0</th>\n",
       "      <td>종로구</td>\n",
       "      <td>6.9998</td>\n",
       "    </tr>\n",
       "    <tr>\n",
       "      <th>1</th>\n",
       "      <td>구로구</td>\n",
       "      <td>4.0000</td>\n",
       "    </tr>\n",
       "    <tr>\n",
       "      <th>2</th>\n",
       "      <td>남로구</td>\n",
       "      <td>6.5714</td>\n",
       "    </tr>\n",
       "    <tr>\n",
       "      <th>3</th>\n",
       "      <td>종구</td>\n",
       "      <td>5.7142</td>\n",
       "    </tr>\n",
       "    <tr>\n",
       "      <th>4</th>\n",
       "      <td>구</td>\n",
       "      <td>4.2858</td>\n",
       "    </tr>\n",
       "  </tbody>\n",
       "</table>\n",
       "</div>"
      ],
      "text/plain": [
       "  State  Recommed\n",
       "0   종로구    6.9998\n",
       "1   구로구    4.0000\n",
       "2   남로구    6.5714\n",
       "3    종구    5.7142\n",
       "4     구    4.2858"
      ]
     },
     "execution_count": 13,
     "metadata": {},
     "output_type": "execute_result"
    }
   ],
   "source": [
    "k=WeightSet(x, y, z)\n",
    "k"
   ]
  },
  {
   "cell_type": "code",
   "execution_count": null,
   "metadata": {},
   "outputs": [],
   "source": []
  }
 ],
 "metadata": {
  "kernelspec": {
   "display_name": "Python 3",
   "language": "python",
   "name": "python3"
  },
  "language_info": {
   "codemirror_mode": {
    "name": "ipython",
    "version": 3
   },
   "file_extension": ".py",
   "mimetype": "text/x-python",
   "name": "python",
   "nbconvert_exporter": "python",
   "pygments_lexer": "ipython3",
   "version": "3.8.5"
  }
 },
 "nbformat": 4,
 "nbformat_minor": 4
}
