{
 "cells": [
  {
   "cell_type": "code",
   "execution_count": 23,
   "id": "ede16f0e",
   "metadata": {},
   "outputs": [
    {
     "data": {
      "text/html": [
       "<div>\n",
       "<style scoped>\n",
       "    .dataframe tbody tr th:only-of-type {\n",
       "        vertical-align: middle;\n",
       "    }\n",
       "\n",
       "    .dataframe tbody tr th {\n",
       "        vertical-align: top;\n",
       "    }\n",
       "\n",
       "    .dataframe thead th {\n",
       "        text-align: right;\n",
       "    }\n",
       "</style>\n",
       "<table border=\"1\" class=\"dataframe\">\n",
       "  <thead>\n",
       "    <tr style=\"text-align: right;\">\n",
       "      <th></th>\n",
       "      <th>자치구</th>\n",
       "      <th>지하철역</th>\n",
       "      <th>아침</th>\n",
       "      <th>점심</th>\n",
       "      <th>오후</th>\n",
       "      <th>저녁</th>\n",
       "    </tr>\n",
       "  </thead>\n",
       "  <tbody>\n",
       "    <tr>\n",
       "      <th>0</th>\n",
       "      <td>강남구</td>\n",
       "      <td>강남</td>\n",
       "      <td>1280749</td>\n",
       "      <td>388790</td>\n",
       "      <td>1521527</td>\n",
       "      <td>1002663</td>\n",
       "    </tr>\n",
       "    <tr>\n",
       "      <th>1</th>\n",
       "      <td>강남구</td>\n",
       "      <td>강남구청</td>\n",
       "      <td>334821</td>\n",
       "      <td>66166</td>\n",
       "      <td>281605</td>\n",
       "      <td>183733</td>\n",
       "    </tr>\n",
       "    <tr>\n",
       "      <th>2</th>\n",
       "      <td>강남구</td>\n",
       "      <td>논현</td>\n",
       "      <td>389847</td>\n",
       "      <td>77440</td>\n",
       "      <td>359856</td>\n",
       "      <td>236880</td>\n",
       "    </tr>\n",
       "    <tr>\n",
       "      <th>3</th>\n",
       "      <td>강남구</td>\n",
       "      <td>대청</td>\n",
       "      <td>162965</td>\n",
       "      <td>41407</td>\n",
       "      <td>170337</td>\n",
       "      <td>95792</td>\n",
       "    </tr>\n",
       "    <tr>\n",
       "      <th>4</th>\n",
       "      <td>강남구</td>\n",
       "      <td>대치</td>\n",
       "      <td>164407</td>\n",
       "      <td>55613</td>\n",
       "      <td>197280</td>\n",
       "      <td>130077</td>\n",
       "    </tr>\n",
       "    <tr>\n",
       "      <th>...</th>\n",
       "      <td>...</td>\n",
       "      <td>...</td>\n",
       "      <td>...</td>\n",
       "      <td>...</td>\n",
       "      <td>...</td>\n",
       "      <td>...</td>\n",
       "    </tr>\n",
       "    <tr>\n",
       "      <th>253</th>\n",
       "      <td>중랑구</td>\n",
       "      <td>신내</td>\n",
       "      <td>0</td>\n",
       "      <td>1</td>\n",
       "      <td>1</td>\n",
       "      <td>1</td>\n",
       "    </tr>\n",
       "    <tr>\n",
       "      <th>254</th>\n",
       "      <td>중랑구</td>\n",
       "      <td>용마산</td>\n",
       "      <td>118405</td>\n",
       "      <td>26388</td>\n",
       "      <td>94854</td>\n",
       "      <td>72192</td>\n",
       "    </tr>\n",
       "    <tr>\n",
       "      <th>255</th>\n",
       "      <td>중랑구</td>\n",
       "      <td>중화</td>\n",
       "      <td>200599</td>\n",
       "      <td>49908</td>\n",
       "      <td>177981</td>\n",
       "      <td>130910</td>\n",
       "    </tr>\n",
       "    <tr>\n",
       "      <th>256</th>\n",
       "      <td>중랑구</td>\n",
       "      <td>태릉입구</td>\n",
       "      <td>227733</td>\n",
       "      <td>66999</td>\n",
       "      <td>238854</td>\n",
       "      <td>169816</td>\n",
       "    </tr>\n",
       "    <tr>\n",
       "      <th>257</th>\n",
       "      <td>중랑구</td>\n",
       "      <td>화랑대</td>\n",
       "      <td>205222</td>\n",
       "      <td>42305</td>\n",
       "      <td>148524</td>\n",
       "      <td>107775</td>\n",
       "    </tr>\n",
       "  </tbody>\n",
       "</table>\n",
       "<p>258 rows × 6 columns</p>\n",
       "</div>"
      ],
      "text/plain": [
       "     자치구  지하철역       아침      점심       오후       저녁\n",
       "0    강남구    강남  1280749  388790  1521527  1002663\n",
       "1    강남구  강남구청   334821   66166   281605   183733\n",
       "2    강남구    논현   389847   77440   359856   236880\n",
       "3    강남구    대청   162965   41407   170337    95792\n",
       "4    강남구    대치   164407   55613   197280   130077\n",
       "..   ...   ...      ...     ...      ...      ...\n",
       "253  중랑구    신내        0       1        1        1\n",
       "254  중랑구   용마산   118405   26388    94854    72192\n",
       "255  중랑구    중화   200599   49908   177981   130910\n",
       "256  중랑구  태릉입구   227733   66999   238854   169816\n",
       "257  중랑구   화랑대   205222   42305   148524   107775\n",
       "\n",
       "[258 rows x 6 columns]"
      ]
     },
     "execution_count": 23,
     "metadata": {},
     "output_type": "execute_result"
    }
   ],
   "source": [
    "import pandas as pd\n",
    "import matplotlib.pyplot as plt\n",
    "import numpy as np\n",
    "from matplotlib import font_manager, rc\n",
    "rc('font', family='HCR Dotum')\n",
    "df = pd.read_csv(\"C:/Users/kidst/python code/지하철노선(5차가공).csv\", encoding = 'euc-kr')\n",
    "df"
   ]
  },
  {
   "cell_type": "code",
   "execution_count": 9,
   "id": "50d07334",
   "metadata": {},
   "outputs": [
    {
     "data": {
      "text/html": [
       "<div>\n",
       "<style scoped>\n",
       "    .dataframe tbody tr th:only-of-type {\n",
       "        vertical-align: middle;\n",
       "    }\n",
       "\n",
       "    .dataframe tbody tr th {\n",
       "        vertical-align: top;\n",
       "    }\n",
       "\n",
       "    .dataframe thead th {\n",
       "        text-align: right;\n",
       "    }\n",
       "</style>\n",
       "<table border=\"1\" class=\"dataframe\">\n",
       "  <thead>\n",
       "    <tr style=\"text-align: right;\">\n",
       "      <th></th>\n",
       "      <th>자치구</th>\n",
       "      <th>지하철역</th>\n",
       "      <th>아침</th>\n",
       "      <th>점심</th>\n",
       "      <th>오후</th>\n",
       "      <th>저녁</th>\n",
       "    </tr>\n",
       "  </thead>\n",
       "  <tbody>\n",
       "    <tr>\n",
       "      <th>226</th>\n",
       "      <td>종로구</td>\n",
       "      <td>동대문</td>\n",
       "      <td>537589</td>\n",
       "      <td>223140</td>\n",
       "      <td>627331</td>\n",
       "      <td>250106</td>\n",
       "    </tr>\n",
       "  </tbody>\n",
       "</table>\n",
       "</div>"
      ],
      "text/plain": [
       "     자치구 지하철역      아침      점심      오후      저녁\n",
       "226  종로구  동대문  537589  223140  627331  250106"
      ]
     },
     "execution_count": 9,
     "metadata": {},
     "output_type": "execute_result"
    }
   ],
   "source": [
    "df.loc[(df[\"자치구\"]== \"종로구\") & (df[\"지하철역\"]==\"동대문\"),:]"
   ]
  },
  {
   "cell_type": "code",
   "execution_count": 11,
   "id": "eebaf2d0",
   "metadata": {},
   "outputs": [
    {
     "name": "stdout",
     "output_type": "stream",
     "text": [
      "종로구\n",
      "동대문\n"
     ]
    }
   ],
   "source": [
    "area = input()\n",
    "station = input()"
   ]
  },
  {
   "cell_type": "code",
   "execution_count": 82,
   "id": "96d4377c",
   "metadata": {},
   "outputs": [
    {
     "data": {
      "text/plain": [
       "226    250106\n",
       "Name: 저녁, dtype: int64"
      ]
     },
     "execution_count": 82,
     "metadata": {},
     "output_type": "execute_result"
    }
   ],
   "source": [
    "data =df.loc[(df[\"자치구\"]== area) & (df[\"지하철역\"]==station),:]\n",
    "morning = data[\"아침\"]\n",
    "lunch = data[\"점심\"]\n",
    "afternoon = data[\"오후\"]\n",
    "evening = data[\"저녁\"]\n",
    "evening"
   ]
  },
  {
   "cell_type": "code",
   "execution_count": 89,
   "id": "3a83c76a",
   "metadata": {},
   "outputs": [
    {
     "data": {
      "image/png": "[encoded data removed]",
      "text/plain": [
       "<Figure size 432x288 with 1 Axes>"
      ]
     },
     "metadata": {
      "needs_background": "light"
     },
     "output_type": "display_data"
    }
   ],
   "source": [
    "x = np.arange(5)\n",
    "\n",
    "times = ['아침','점심','오후','저녁','']\n",
    "values = [morning,lunch,afternoon,evening,0]\n",
    "plt.bar(x,values)\n",
    "plt.xticks(x,times)\n",
    "plt.savefig('my_plot.png')"
   ]
  },
  {
   "cell_type": "code",
   "execution_count": null,
   "id": "98d549ee",
   "metadata": {},
   "outputs": [],
   "source": []
  }
 ],
 "metadata": {
  "kernelspec": {
   "display_name": "Python 3",
   "language": "python",
   "name": "python3"
  },
  "language_info": {
   "codemirror_mode": {
    "name": "ipython",
    "version": 3
   },
   "file_extension": ".py",
   "mimetype": "text/x-python",
   "name": "python",
   "nbconvert_exporter": "python",
   "pygments_lexer": "ipython3",
   "version": "3.8.8"
  }
 },
 "nbformat": 4,
 "nbformat_minor": 5
}
